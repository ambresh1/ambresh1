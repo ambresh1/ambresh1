{
  "nbformat": 4,
  "nbformat_minor": 0,
  "metadata": {
    "colab": {
      "name": "Numpy Pandas Matplotlib.ipynb",
      "provenance": [],
      "toc_visible": true,
      "authorship_tag": "ABX9TyNB+zp+g6NioALWtzEIFWwx",
      "include_colab_link": true
    },
    "kernelspec": {
      "name": "python3",
      "display_name": "Python 3"
    },
    "language_info": {
      "name": "python"
    }
  },
  "cells": [
    {
      "cell_type": "markdown",
      "metadata": {
        "id": "view-in-github",
        "colab_type": "text"
      },
      "source": [
        "<a href=\"https://colab.research.google.com/github/ambresh1/ambresh1/blob/main/Numpy_Pandas_Matplotlib.ipynb\" target=\"_parent\"><img src=\"https://colab.research.google.com/assets/colab-badge.svg\" alt=\"Open In Colab\"/></a>"
      ]
    },
    {
      "cell_type": "markdown",
      "source": [
        "# **Numpy**"
      ],
      "metadata": {
        "id": "bkUbsJRdGZJ_"
      }
    },
    {
      "cell_type": "markdown",
      "source": [
        "# 01 Numpy"
      ],
      "metadata": {
        "id": "mfdWa7xWqQrQ"
      }
    },
    {
      "cell_type": "code",
      "execution_count": 45,
      "metadata": {
        "id": "OhdDmFJPlm0p"
      },
      "outputs": [],
      "source": [
        "import numpy as np"
      ]
    },
    {
      "cell_type": "code",
      "source": [
        "# 01- 1D Array :>\n",
        "arr= np.array([1,2,3,4,5])\n",
        "arr"
      ],
      "metadata": {
        "id": "AmWh9kKHpayH"
      },
      "execution_count": null,
      "outputs": []
    },
    {
      "cell_type": "code",
      "source": [
        "#02- Linspace Function\n",
        "arr=np.linspace(1,10,10)\n",
        "arr"
      ],
      "metadata": {
        "colab": {
          "base_uri": "https://localhost:8080/"
        },
        "id": "sx0ZOtazs4u5",
        "outputId": "43bf0a1d-9b31-4612-8f08-389d857d8b81"
      },
      "execution_count": null,
      "outputs": [
        {
          "output_type": "execute_result",
          "data": {
            "text/plain": [
              "array([ 1.,  2.,  3.,  4.,  5.,  6.,  7.,  8.,  9., 10.])"
            ]
          },
          "metadata": {},
          "execution_count": 30
        }
      ]
    },
    {
      "cell_type": "code",
      "source": [
        "#03- Arrange Function\n",
        "arr=np.arange(1,26)\n",
        "arr"
      ],
      "metadata": {
        "colab": {
          "base_uri": "https://localhost:8080/"
        },
        "id": "BAHKj2dhuDnL",
        "outputId": "32fabe18-66ae-45f7-f2cb-d1e9c9310da5"
      },
      "execution_count": null,
      "outputs": [
        {
          "output_type": "execute_result",
          "data": {
            "text/plain": [
              "array([ 1,  2,  3,  4,  5,  6,  7,  8,  9, 10, 11, 12, 13, 14, 15, 16, 17,\n",
              "       18, 19, 20, 21, 22, 23, 24, 25])"
            ]
          },
          "metadata": {},
          "execution_count": 35
        }
      ]
    },
    {
      "cell_type": "code",
      "source": [
        "#04- 2D Array (List of Lists)\n",
        "arr=np.array([[1,2,3],[4,5,6],[7,8,9]])\n",
        "arr"
      ],
      "metadata": {
        "colab": {
          "base_uri": "https://localhost:8080/"
        },
        "id": "ZdlkqsRtuq4F",
        "outputId": "27c358d0-d123-4bba-8170-4a19b6cd1682"
      },
      "execution_count": null,
      "outputs": [
        {
          "output_type": "execute_result",
          "data": {
            "text/plain": [
              "array([[1, 2, 3],\n",
              "       [4, 5, 6],\n",
              "       [7, 8, 9]])"
            ]
          },
          "metadata": {},
          "execution_count": 37
        }
      ]
    },
    {
      "cell_type": "code",
      "source": [
        "#05- Null Matrix\n",
        "o=np.zeros([3,5])\n",
        "o\n",
        "o2=o+2\n",
        "o2"
      ],
      "metadata": {
        "colab": {
          "base_uri": "https://localhost:8080/"
        },
        "id": "cVum2mQJv8wz",
        "outputId": "7fba2728-e50a-4870-8919-7ff3f32e1f67"
      },
      "execution_count": null,
      "outputs": [
        {
          "output_type": "execute_result",
          "data": {
            "text/plain": [
              "array([[2., 2., 2., 2., 2.],\n",
              "       [2., 2., 2., 2., 2.],\n",
              "       [2., 2., 2., 2., 2.]])"
            ]
          },
          "metadata": {},
          "execution_count": 51
        }
      ]
    },
    {
      "cell_type": "code",
      "source": [
        "#06- Indenty Matirx\n",
        "I=np.identity(5)\n",
        "I"
      ],
      "metadata": {
        "id": "f6uy6StOw5Zc",
        "colab": {
          "base_uri": "https://localhost:8080/"
        },
        "outputId": "3196a38e-988e-4e88-a2ac-70a6ede187ec"
      },
      "execution_count": 3,
      "outputs": [
        {
          "output_type": "execute_result",
          "data": {
            "text/plain": [
              "array([[1., 0., 0., 0., 0.],\n",
              "       [0., 1., 0., 0., 0.],\n",
              "       [0., 0., 1., 0., 0.],\n",
              "       [0., 0., 0., 1., 0.],\n",
              "       [0., 0., 0., 0., 1.]])"
            ]
          },
          "metadata": {},
          "execution_count": 3
        }
      ]
    },
    {
      "cell_type": "code",
      "source": [
        "#07- Ones Matrix\n",
        "one= np.ones([3,5])\n",
        "one"
      ],
      "metadata": {
        "id": "OhR02i0UxW8m",
        "colab": {
          "base_uri": "https://localhost:8080/"
        },
        "outputId": "db0a781b-a035-4c14-8daa-cd14b6480c7d"
      },
      "execution_count": 4,
      "outputs": [
        {
          "output_type": "execute_result",
          "data": {
            "text/plain": [
              "array([[1., 1., 1., 1., 1.],\n",
              "       [1., 1., 1., 1., 1.],\n",
              "       [1., 1., 1., 1., 1.]])"
            ]
          },
          "metadata": {},
          "execution_count": 4
        }
      ]
    },
    {
      "cell_type": "code",
      "source": [
        "#08- Adding Matrixs\n",
        "one= np.ones([3,5])\n",
        "I=np.identity(5)\n",
        "o=np.zeros([3,5])\n",
        "print(\"One : \",one)\n",
        "print(\"O : \",o)\n",
        "print(\"I : \",I)\n",
        "new=one+o\n",
        "print(\"New : \",new)"
      ],
      "metadata": {
        "id": "Sc3bCmzixoDn",
        "colab": {
          "base_uri": "https://localhost:8080/"
        },
        "outputId": "2d830616-357e-446e-9f32-332301f4db1d"
      },
      "execution_count": 5,
      "outputs": [
        {
          "output_type": "stream",
          "name": "stdout",
          "text": [
            "One :  [[1. 1. 1. 1. 1.]\n",
            " [1. 1. 1. 1. 1.]\n",
            " [1. 1. 1. 1. 1.]]\n",
            "O :  [[0. 0. 0. 0. 0.]\n",
            " [0. 0. 0. 0. 0.]\n",
            " [0. 0. 0. 0. 0.]]\n",
            "I :  [[1. 0. 0. 0. 0.]\n",
            " [0. 1. 0. 0. 0.]\n",
            " [0. 0. 1. 0. 0.]\n",
            " [0. 0. 0. 1. 0.]\n",
            " [0. 0. 0. 0. 1.]]\n",
            "New :  [[1. 1. 1. 1. 1.]\n",
            " [1. 1. 1. 1. 1.]\n",
            " [1. 1. 1. 1. 1.]]\n"
          ]
        }
      ]
    },
    {
      "cell_type": "code",
      "source": [
        "#09- Substracting Matrixs\n",
        "one= np.ones([5,5])\n",
        "I=np.identity(5)\n",
        "o=np.zeros([3,5])\n",
        "# new=o-one\n",
        "\n",
        "# Multipling matrixs \n",
        "new=one*I\n",
        "new\n"
      ],
      "metadata": {
        "id": "AzDxhTiPzNbD",
        "colab": {
          "base_uri": "https://localhost:8080/"
        },
        "outputId": "69714036-fdf2-40ef-f76e-b7f4f3a1b0c6"
      },
      "execution_count": 6,
      "outputs": [
        {
          "output_type": "execute_result",
          "data": {
            "text/plain": [
              "array([[1., 0., 0., 0., 0.],\n",
              "       [0., 1., 0., 0., 0.],\n",
              "       [0., 0., 1., 0., 0.],\n",
              "       [0., 0., 0., 1., 0.],\n",
              "       [0., 0., 0., 0., 1.]])"
            ]
          },
          "metadata": {},
          "execution_count": 6
        }
      ]
    },
    {
      "cell_type": "markdown",
      "source": [
        "# 02 Numpy Random"
      ],
      "metadata": {
        "id": "0ekqkgAl1ZdE"
      }
    },
    {
      "cell_type": "code",
      "source": [
        "ran = np.random.rand(6)\n",
        "ran"
      ],
      "metadata": {
        "id": "vpMs6Ye61k0B",
        "colab": {
          "base_uri": "https://localhost:8080/"
        },
        "outputId": "c040174b-b56e-4889-9e9e-b2398d685073"
      },
      "execution_count": 14,
      "outputs": [
        {
          "output_type": "execute_result",
          "data": {
            "text/plain": [
              "array([0.32041076, 0.81949751, 0.6910707 , 0.70640654, 0.33573285,\n",
              "       0.26557241])"
            ]
          },
          "metadata": {},
          "execution_count": 14
        }
      ]
    },
    {
      "cell_type": "markdown",
      "source": [
        "# 03 Numpy Indexing  "
      ],
      "metadata": {
        "id": "VFtwn3Q-ULoT"
      }
    },
    {
      "cell_type": "code",
      "source": [
        "#Chosing one Value in the Matrix\n",
        "arr=np.array([[1,2,3],[4,5,6],[7,8,9],[0,0,0]])\n",
        "arr[0,2]\n",
        "#Chosing Sub Matrix in a Matrix\n",
        "arr[2:3]\n",
        "#Chosing only Rows\n",
        "# arr[1]\n",
        "#Chosing Multiple Rows\n",
        "# arr[1:3,:]\n",
        "#Chosing only Cols\n",
        "# arr[:,1]\n",
        "#Chosing Multiple Cols\n",
        "# arr[:,1:3]\n"
      ],
      "metadata": {
        "id": "hO15rXaQUfwE"
      },
      "execution_count": null,
      "outputs": []
    },
    {
      "cell_type": "code",
      "source": [
        "#Max & Min Value of the Matrix \n",
        "arr=np.array([[1,2,3],[4,5,6],[7,8,9],[0,0,0]])\n",
        "# arr.max()\n",
        "# arr.min()\n",
        "# Max & Min from Cols & Rows/ axis=1 means Row , axis=0 means Col\n",
        "# arr.max(axis=1)\n",
        "# arr.max(axis=0)\n",
        "# arr.min(axis=1)\n",
        "# arr.min(axis=0)"
      ],
      "metadata": {
        "colab": {
          "base_uri": "https://localhost:8080/"
        },
        "id": "4gCOnQAiZH2r",
        "outputId": "de6ddd0d-33e0-4381-924a-b9e3aae075f9"
      },
      "execution_count": 55,
      "outputs": [
        {
          "output_type": "execute_result",
          "data": {
            "text/plain": [
              "array([1, 4, 7, 0])"
            ]
          },
          "metadata": {},
          "execution_count": 55
        }
      ]
    },
    {
      "cell_type": "code",
      "source": [
        "# Mean(avg)\n",
        "arr=np.array([[1,2,3],[4,5,6],[7,8,9],[0,0,0]])\n",
        "# arr.mean()\n",
        "#Standered Diviation (std)\n",
        "# arr.std()\n",
        "\n"
      ],
      "metadata": {
        "colab": {
          "base_uri": "https://localhost:8080/"
        },
        "id": "DhzFXCu5bsvi",
        "outputId": "ee6bac8c-ba24-47ba-ceaa-4ae720a4319b"
      },
      "execution_count": 57,
      "outputs": [
        {
          "output_type": "execute_result",
          "data": {
            "text/plain": [
              "3.112474899497183"
            ]
          },
          "metadata": {},
          "execution_count": 57
        }
      ]
    },
    {
      "cell_type": "code",
      "source": [
        "# Alternative ways to Matrix Handeling max,Min,Std,mean,log,exp,sqrt\n",
        "# np.max(arr,axis=1)\n",
        "# np.concatenate(arr,axis=0)\n"
      ],
      "metadata": {
        "colab": {
          "base_uri": "https://localhost:8080/"
        },
        "id": "ulWlHTi3cOgS",
        "outputId": "f7e55915-27f9-49b3-c4f7-c0179339a2a5"
      },
      "execution_count": 62,
      "outputs": [
        {
          "output_type": "execute_result",
          "data": {
            "text/plain": [
              "array([1, 2, 3, 4, 5, 6, 7, 8, 9, 0, 0, 0])"
            ]
          },
          "metadata": {},
          "execution_count": 62
        }
      ]
    },
    {
      "cell_type": "markdown",
      "source": [
        "# **Pandas**"
      ],
      "metadata": {
        "id": "el8r26AEdVu8"
      }
    },
    {
      "cell_type": "markdown",
      "source": [
        "\n",
        "# 01 Pandas- Series & DataFrame"
      ],
      "metadata": {
        "id": "2jSolpi3dyWC"
      }
    },
    {
      "cell_type": "code",
      "source": [
        "import pandas as pd"
      ],
      "metadata": {
        "id": "YWEP2Sw9eDn6"
      },
      "execution_count": 1,
      "outputs": []
    },
    {
      "cell_type": "code",
      "source": [
        "#Creating Series with Pandas 1D array only \n",
        "arr=np.array([1,2,3])\n",
        "pd.Series(arr)"
      ],
      "metadata": {
        "id": "PMT7dA9Te-GE"
      },
      "execution_count": null,
      "outputs": []
    },
    {
      "cell_type": "code",
      "source": [
        "# DataFrames \n",
        "list_cols=[\"Date\",\"Symbol\",\"Price\"]\n",
        "list_rows=[\"Row1\",\"Row2\",\"Row3\",\"Row4\"]\n",
        "arr1=np.array([[1,2,3],[4,5,6],[7,8,9],[0,0,0]])\n",
        "pd.DataFrame(arr1,index=list_rows,columns=list_cols)\n"
      ],
      "metadata": {
        "id": "Eg9eVf0yfr-q"
      },
      "execution_count": null,
      "outputs": []
    },
    {
      "cell_type": "markdown",
      "source": [
        "# 02 Pandas- Cleaning & Selecting Data from Files"
      ],
      "metadata": {
        "id": "n0CwsS6mieRY"
      }
    },
    {
      "cell_type": "code",
      "source": [
        "# Import Files excel\n",
        "file=pd.read_excel(\"/content/final all stocks.xlsx\",)\n",
        "\n",
        "# Sort by Index\n",
        "# file=file.sort_index(ascending=False)\n",
        "# file\n",
        "#Reseting the Index => file.reset_index\n",
        "# Sorting by Values\n",
        "file=file.sort_values(by=\"Underlying Close Price (A)\",ascending=True)\n",
        "file"
      ],
      "metadata": {
        "id": "8u8ISFhgi6VF"
      },
      "execution_count": null,
      "outputs": []
    },
    {
      "cell_type": "code",
      "source": [
        "# Selecting the Columns [[]]\n",
        "file=file[[\"Symbol\",\"Date\"]]\n",
        "file\n",
        "# Deleting the Missing Valuve (NaN) => File.dropna()\n",
        "# Rolling => adds New Cell to the sheet at specified location (SMA21 Col Adding the data)\n",
        "#             file[\"SMA21\"] = file[[\"Nifty Colse\"]].rolling(21).mean()\n"
      ],
      "metadata": {
        "id": "8yJN8UZlCWiK"
      },
      "execution_count": null,
      "outputs": []
    },
    {
      "cell_type": "code",
      "source": [
        "# Shifting the cell\n",
        "# file[\"Close Nifty\"].shift(1) # Shifts the 1 row down in the nifty close cell\n",
        "# Group By => Adds Some index Values as (Mean, Sum, Std)\n",
        "\n"
      ],
      "metadata": {
        "id": "2dj-Ef5ADcuD"
      },
      "execution_count": null,
      "outputs": []
    },
    {
      "cell_type": "markdown",
      "source": [
        "# 03 Pandas- Conditional Selection "
      ],
      "metadata": {
        "id": "iMagfacuivC_"
      }
    },
    {
      "cell_type": "code",
      "source": [
        "# Slicing \n",
        "# iloc\n",
        "file.iloc[0:20,0:5] #20 Rows & 5 Columns\n"
      ],
      "metadata": {
        "id": "gcLFUVPvi7XF"
      },
      "execution_count": null,
      "outputs": []
    },
    {
      "cell_type": "code",
      "source": [
        "# Conditional By Dates\n",
        "# file.loc[\"2010-01-01\",\"2015-01-01\"] \n",
        "# Conditional By Values\n",
        "file.loc[file[\"Current Day Underlying Daily Volatility (E) = Sqrt(0.995*D*D + 0.005*C*C)\"]>0.04]"
      ],
      "metadata": {
        "id": "jD6M1YJ1IPM3"
      },
      "execution_count": null,
      "outputs": []
    },
    {
      "cell_type": "code",
      "source": [
        "# Concating DataFrames \n",
        "# EX:1 # By Col\n",
        "# df1=file.iloc[:,:3]\n",
        "# df2=file.iloc[:,3:]\n",
        "# pd.concat((df1,df2),axis=1) \n",
        "# EX:2 # By Row\n",
        "# df1=file.iloc[:,:]\n",
        "# df2=file.iloc[:,:]\n",
        "# pd.concat((df1,df2),axis=0)"
      ],
      "metadata": {
        "id": "vuvy6Va4KQVS"
      },
      "execution_count": null,
      "outputs": []
    },
    {
      "cell_type": "markdown",
      "source": [
        "# **Matplotlib**"
      ],
      "metadata": {
        "id": "UGiidhIsNJi7"
      }
    },
    {
      "cell_type": "markdown",
      "source": [
        "# 01 Graph"
      ],
      "metadata": {
        "id": "jrSheOuENQaT"
      }
    },
    {
      "cell_type": "code",
      "source": [
        "import matplotlib.pyplot as plt"
      ],
      "metadata": {
        "id": "1223uLzWNclb"
      },
      "execution_count": 44,
      "outputs": []
    },
    {
      "cell_type": "code",
      "source": [
        "# Data Simulating\n",
        "arr=np.random.randint(0,20,size=(15))\n",
        "arr\n",
        "square=arr**2\n",
        "mut=arr*3\n",
        "# Ploting the Data\n",
        "plt.plot(arr)\n",
        "plt.plot(square)\n",
        "plt.plot(mut)"
      ],
      "metadata": {
        "colab": {
          "base_uri": "https://localhost:8080/",
          "height": 283
        },
        "id": "_6XkVPvfNorC",
        "outputId": "ad0ae9ba-8663-4b57-9a69-e19d5e048e0b"
      },
      "execution_count": 53,
      "outputs": [
        {
          "output_type": "execute_result",
          "data": {
            "text/plain": [
              "[<matplotlib.lines.Line2D at 0x7fb29ebdf290>]"
            ]
          },
          "metadata": {},
          "execution_count": 53
        },
        {
          "output_type": "display_data",
          "data": {
            "text/plain": [
              "<Figure size 432x288 with 1 Axes>"
            ],
            "image/png": "[encoded data removed]"
          },
          "metadata": {
            "needs_background": "light"
          }
        }
      ]
    },
    {
      "cell_type": "code",
      "source": [
        "plt.figure(figsize=(15,8)) #Chart Size\n",
        "plt.plot(arr, color=\"Red\")\n",
        "plt.plot(square)\n",
        "plt.plot(mut,\"o\") # o Means ploting the Dots\n",
        "# plt.scatter(arr,mut)\n",
        "# Ḷabels on Chart\n",
        "plt.xlabel(\"Numbers\") # X Axis\n",
        "plt.ylabel(\"Values\") #Y Axis\n",
        "plt.title(\"Graph\")\n",
        "plt.legend([\"Arr\",\"Square\",\"Multipliction\"])\n",
        "plt.show() # Removes This Heading of Chart [<matplotlib.lines.Line2D at 0x7fb29da7c7d0>]"
      ],
      "metadata": {
        "colab": {
          "base_uri": "https://localhost:8080/",
          "height": 513
        },
        "id": "bF0vHtm_O714",
        "outputId": "5ec55ae7-fe40-4d59-f00a-9cb61b07d095"
      },
      "execution_count": 68,
      "outputs": [
        {
          "output_type": "display_data",
          "data": {
            "text/plain": [
              "<Figure size 1080x576 with 1 Axes>"
            ],
            "image/png": "[encoded data removed]"
          },
          "metadata": {
            "needs_background": "light"
          }
        }
      ]
    },
    {
      "cell_type": "code",
      "source": [
        "# Sactter (Connecting the Dots of to lines)\n",
        "plt.scatter(arr,mut)"
      ],
      "metadata": {
        "id": "hxpqWK50S0uQ"
      },
      "execution_count": null,
      "outputs": []
    }
  ]
}